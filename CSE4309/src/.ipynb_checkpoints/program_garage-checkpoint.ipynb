{
 "cells": [
  {
   "cell_type": "code",
   "execution_count": 1,
   "metadata": {},
   "outputs": [
    {
     "name": "stdout",
     "output_type": "stream",
     "text": [
      "[[0.81338727 0.30468875 0.36848785 0.69906692 0.14548331 0.76267913\n",
      "  0.25505756 0.43751731]\n",
      " [0.46841792 0.43756799 0.48880864 0.5835088  0.48422615 0.62966562\n",
      "  0.77156069 0.87942448]]\n",
      "\n",
      "\n",
      "\n",
      "\n",
      " [[0.81338727 0.30468875 0.36848785 0.69906692 0.14548331 0.76267913\n",
      "  0.25505756 0.43751731 3.78636811]\n",
      " [0.46841792 0.43756799 0.48880864 0.5835088  0.48422615 0.62966562\n",
      "  0.77156069 0.87942448 4.74318028]]\n"
     ]
    }
   ],
   "source": [
    "import numpy as np\n",
    "my_data = np.random.random((2,8)) #recfromcsv('LIAB.ST.csv', delimiter='\\t')\n",
    "new_col = my_data.sum(1)[...,None] # None keeps (n, 1) shape\n",
    "new_col.shape\n",
    "#(210,1)\n",
    "print(my_data)\n",
    "all_data = np.append(my_data, new_col, 1)\n",
    "all_data.shape\n",
    "print(\"\\n\\n\\n\\n\",all_data)\n",
    "#(210,9)"
   ]
  },
  {
   "cell_type": "code",
   "execution_count": 2,
   "metadata": {},
   "outputs": [
    {
     "name": "stdout",
     "output_type": "stream",
     "text": [
      "2\n"
     ]
    }
   ],
   "source": [
    "import numpy as np\n",
    "no_train_mat_col = 16\n",
    "attributes = np.arange(0,no_train_mat_col-1,1,int)\n",
    "\n",
    "#print(attributes)\n",
    "\n",
    "a =[]\n",
    "a.append([5,6])\n",
    "a.append([7,8])\n",
    "#print(a)\n",
    "b=[]\n",
    "b.append([0,12,5,1,2,0,1,0,2])\n",
    "b.append([0,1,2,3,4,5,6,8,9])\n",
    "b.append([0,1,2,3,4,5,6,8,9])\n",
    "b= np.array(b)\n",
    "#print(b)\n",
    "g = np.where(b == 0)\n",
    "#print(len(g[0]))\n",
    "\n",
    "#b = np.eye(2)\n",
    "#print(b[0][-1])\n",
    "print(len(np.unique(b[:,-1])))\n"
   ]
  },
  {
   "cell_type": "code",
   "execution_count": 5,
   "metadata": {},
   "outputs": [
    {
     "name": "stdout",
     "output_type": "stream",
     "text": [
      "3\n"
     ]
    }
   ],
   "source": [
    "a =[2,5,3,6,4]\n",
    "path = np.where(a==np.amax(a))\n",
    "print(path[0][0])"
   ]
  },
  {
   "cell_type": "code",
   "execution_count": 18,
   "metadata": {},
   "outputs": [
    {
     "name": "stdout",
     "output_type": "stream",
     "text": [
      "[4 6 0 1 8 5]\n",
      "[0 0 1 2 2 3]\n",
      "[0]\n"
     ]
    }
   ],
   "source": [
    "import numpy as np\n",
    "from scipy import stats\n",
    "arr = np.array([1,2,4,5,0,3,0,6,2])\n",
    "list_sorted = arr.argsort()[:6]\n",
    "print(list_sorted)\n",
    "print(arr[list_sorted])\n",
    "mode_class = stats.mode(arr[list_sorted])\n",
    "print(mode_class[0])"
   ]
  },
  {
   "cell_type": "code",
   "execution_count": 8,
   "metadata": {},
   "outputs": [
    {
     "name": "stdout",
     "output_type": "stream",
     "text": [
      "0\n"
     ]
    }
   ],
   "source": [
    "import statistics as s\n",
    "import numpy as np\n",
    "arr = np.array([1,9,4,5,0,3,0,6,2])\n",
    "multi = s.multimode(arr)\n",
    "print(multi[0])"
   ]
  },
  {
   "cell_type": "code",
   "execution_count": null,
   "metadata": {},
   "outputs": [],
   "source": []
  }
 ],
 "metadata": {
  "kernelspec": {
   "display_name": "Python 3",
   "language": "python",
   "name": "python3"
  },
  "language_info": {
   "codemirror_mode": {
    "name": "ipython",
    "version": 3
   },
   "file_extension": ".py",
   "mimetype": "text/x-python",
   "name": "python",
   "nbconvert_exporter": "python",
   "pygments_lexer": "ipython3",
   "version": "3.8.5"
  }
 },
 "nbformat": 4,
 "nbformat_minor": 2
}
