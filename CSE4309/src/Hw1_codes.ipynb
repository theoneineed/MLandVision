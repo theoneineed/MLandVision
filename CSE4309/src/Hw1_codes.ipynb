{
 "cells": [
  {
   "cell_type": "code",
   "execution_count": 8,
   "metadata": {},
   "outputs": [
    {
     "name": "stdout",
     "output_type": "stream",
     "text": [
      "5040\n"
     ]
    }
   ],
   "source": [
    "def factorial(n):\n",
    "    result = 1\n",
    "    for i in range(2, (n+1)):\n",
    "        result = result * i;\n",
    "\n",
    "    return result\n",
    "\n",
    "m = factorial(7)\n",
    "print(m)"
   ]
  },
  {
   "cell_type": "code",
   "execution_count": 9,
   "metadata": {},
   "outputs": [
    {
     "name": "stdout",
     "output_type": "stream",
     "text": [
      "5040\n"
     ]
    }
   ],
   "source": [
    "#rewrite above function in recursive form\n",
    "def factorial(n):\n",
    "    result = 1\n",
    "    if(n==1):\n",
    "        return 1\n",
    "    else:\n",
    "        result=n*factorial(n-1)\n",
    "    return result\n",
    "\n",
    "m = factorial(7)\n",
    "print(m)"
   ]
  },
  {
   "cell_type": "code",
   "execution_count": 33,
   "metadata": {},
   "outputs": [
    {
     "name": "stdout",
     "output_type": "stream",
     "text": [
      "Enter the pathname please: \n",
      "/media/nabin/Nabin/blackboard/7th sem/CSE4309/doc/temp/numbers2.txt\n",
      "average =  7.3183\n",
      "standard deviation =  3.0508\n"
     ]
    }
   ],
   "source": [
    "from statistics import mean, median, mode, stdev\n",
    "\n",
    "def file_stats(pathname):\n",
    "\n",
    "    with open(pathname) as f:\n",
    "        numbers = [float(i) for i in f]\n",
    "\n",
    "    average= sum(numbers)/len(numbers)\n",
    "    print('average = ',round(average,4))\n",
    "    sd= stdev(numbers)\n",
    "    print('standard deviation = ',round(sd,4))\n",
    "    #since the question specified standard dev with n-1, I used sample standard deviation\n",
    "    \n",
    "pathname = input('Enter the pathname please: \\n')   \n",
    "file_stats(pathname)\n",
    "    "
   ]
  },
  {
   "cell_type": "code",
   "execution_count": null,
   "metadata": {},
   "outputs": [],
   "source": []
  }
 ],
 "metadata": {
  "kernelspec": {
   "display_name": "Python 3",
   "language": "python",
   "name": "python3"
  },
  "language_info": {
   "codemirror_mode": {
    "name": "ipython",
    "version": 3
   },
   "file_extension": ".py",
   "mimetype": "text/x-python",
   "name": "python",
   "nbconvert_exporter": "python",
   "pygments_lexer": "ipython3",
   "version": "3.6.9"
  }
 },
 "nbformat": 4,
 "nbformat_minor": 2
}
